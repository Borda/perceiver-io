{
  "cells": [
    {
      "cell_type": "markdown",
      "id": "b49dc803",
      "metadata": {
        "id": "b49dc803"
      },
      "source": [
        "# Sentiment classification"
      ]
    },
    {
      "cell_type": "code",
      "source": [
        "!pip install perceiver-io==0.2.1"
      ],
      "metadata": {
        "colab": {
          "base_uri": "https://localhost:8080/"
        },
        "id": "DAUrfRj0CcW3",
        "outputId": "22face2c-0964-4f1a-d085-e0160b1dbf96"
      },
      "id": "DAUrfRj0CcW3",
      "execution_count": 1,
      "outputs": [
        {
          "output_type": "stream",
          "name": "stdout",
          "text": [
            "Collecting perceiver-io==0.2.1\n",
            "  Downloading perceiver_io-0.2.1-py3-none-any.whl (28 kB)\n",
            "Collecting torchmetrics<0.9.0,>=0.8.0\n",
            "  Downloading torchmetrics-0.8.2-py3-none-any.whl (409 kB)\n",
            "\u001b[K     |████████████████████████████████| 409 kB 7.3 MB/s \n",
            "\u001b[?25hCollecting pytorch-lightning<1.7.0,>=1.6.0\n",
            "  Downloading pytorch_lightning-1.6.3-py3-none-any.whl (584 kB)\n",
            "\u001b[K     |████████████████████████████████| 584 kB 37.5 MB/s \n",
            "\u001b[?25hRequirement already satisfied: torch<1.12.0,>=1.11.0 in /usr/local/lib/python3.7/dist-packages (from perceiver-io==0.2.1) (1.11.0+cu113)\n",
            "Collecting lightning-bolts<0.6.0,>=0.5.0\n",
            "  Downloading lightning_bolts-0.5.0-py3-none-any.whl (316 kB)\n",
            "\u001b[K     |████████████████████████████████| 316 kB 50.6 MB/s \n",
            "\u001b[?25hCollecting jsonargparse[signatures]<4.8.0,>=4.7.0\n",
            "  Downloading jsonargparse-4.7.2-py3-none-any.whl (135 kB)\n",
            "\u001b[K     |████████████████████████████████| 135 kB 33.1 MB/s \n",
            "\u001b[?25hRequirement already satisfied: torchtext<0.13.0,>=0.12.0 in /usr/local/lib/python3.7/dist-packages (from perceiver-io==0.2.1) (0.12.0)\n",
            "Collecting einops<0.5.0,>=0.4.0\n",
            "  Downloading einops-0.4.1-py3-none-any.whl (28 kB)\n",
            "Requirement already satisfied: torchvision<0.13.0,>=0.12.0 in /usr/local/lib/python3.7/dist-packages (from perceiver-io==0.2.1) (0.12.0+cu113)\n",
            "Collecting fairscale<0.5.0,>=0.4.0\n",
            "  Downloading fairscale-0.4.6.tar.gz (248 kB)\n",
            "\u001b[K     |████████████████████████████████| 248 kB 34.5 MB/s \n",
            "\u001b[?25h  Installing build dependencies ... \u001b[?25l\u001b[?25hdone\n",
            "  Getting requirements to build wheel ... \u001b[?25l\u001b[?25hdone\n",
            "  Installing backend dependencies ... \u001b[?25l\u001b[?25hdone\n",
            "    Preparing wheel metadata ... \u001b[?25l\u001b[?25hdone\n",
            "Collecting tokenizers<0.13.0,>=0.12.0\n",
            "  Downloading tokenizers-0.12.1-cp37-cp37m-manylinux_2_12_x86_64.manylinux2010_x86_64.whl (6.6 MB)\n",
            "\u001b[K     |████████████████████████████████| 6.6 MB 52.4 MB/s \n",
            "\u001b[?25hRequirement already satisfied: PyYAML>=3.13 in /usr/local/lib/python3.7/dist-packages (from jsonargparse[signatures]<4.8.0,>=4.7.0->perceiver-io==0.2.1) (3.13)\n",
            "Collecting docstring-parser>=0.7.3\n",
            "  Downloading docstring_parser-0.14.1-py3-none-any.whl (33 kB)\n",
            "Requirement already satisfied: packaging in /usr/local/lib/python3.7/dist-packages (from lightning-bolts<0.6.0,>=0.5.0->perceiver-io==0.2.1) (21.3)\n",
            "Requirement already satisfied: tensorboard>=2.2.0 in /usr/local/lib/python3.7/dist-packages (from pytorch-lightning<1.7.0,>=1.6.0->perceiver-io==0.2.1) (2.8.0)\n",
            "Requirement already satisfied: typing-extensions>=4.0.0 in /usr/local/lib/python3.7/dist-packages (from pytorch-lightning<1.7.0,>=1.6.0->perceiver-io==0.2.1) (4.2.0)\n",
            "Collecting PyYAML>=3.13\n",
            "  Downloading PyYAML-6.0-cp37-cp37m-manylinux_2_5_x86_64.manylinux1_x86_64.manylinux_2_12_x86_64.manylinux2010_x86_64.whl (596 kB)\n",
            "\u001b[K     |████████████████████████████████| 596 kB 67.3 MB/s \n",
            "\u001b[?25hRequirement already satisfied: numpy>=1.17.2 in /usr/local/lib/python3.7/dist-packages (from pytorch-lightning<1.7.0,>=1.6.0->perceiver-io==0.2.1) (1.21.6)\n",
            "Requirement already satisfied: tqdm>=4.57.0 in /usr/local/lib/python3.7/dist-packages (from pytorch-lightning<1.7.0,>=1.6.0->perceiver-io==0.2.1) (4.64.0)\n",
            "Collecting pyDeprecate<0.4.0,>=0.3.1\n",
            "  Downloading pyDeprecate-0.3.2-py3-none-any.whl (10 kB)\n",
            "Collecting fsspec[http]!=2021.06.0,>=2021.05.0\n",
            "  Downloading fsspec-2022.3.0-py3-none-any.whl (136 kB)\n",
            "\u001b[K     |████████████████████████████████| 136 kB 59.9 MB/s \n",
            "\u001b[?25hRequirement already satisfied: requests in /usr/local/lib/python3.7/dist-packages (from fsspec[http]!=2021.06.0,>=2021.05.0->pytorch-lightning<1.7.0,>=1.6.0->perceiver-io==0.2.1) (2.23.0)\n",
            "Collecting aiohttp\n",
            "  Downloading aiohttp-3.8.1-cp37-cp37m-manylinux_2_5_x86_64.manylinux1_x86_64.manylinux_2_12_x86_64.manylinux2010_x86_64.whl (1.1 MB)\n",
            "\u001b[K     |████████████████████████████████| 1.1 MB 45.0 MB/s \n",
            "\u001b[?25hRequirement already satisfied: pyparsing!=3.0.5,>=2.0.2 in /usr/local/lib/python3.7/dist-packages (from packaging->lightning-bolts<0.6.0,>=0.5.0->perceiver-io==0.2.1) (3.0.8)\n",
            "Requirement already satisfied: tensorboard-plugin-wit>=1.6.0 in /usr/local/lib/python3.7/dist-packages (from tensorboard>=2.2.0->pytorch-lightning<1.7.0,>=1.6.0->perceiver-io==0.2.1) (1.8.1)\n",
            "Requirement already satisfied: google-auth<3,>=1.6.3 in /usr/local/lib/python3.7/dist-packages (from tensorboard>=2.2.0->pytorch-lightning<1.7.0,>=1.6.0->perceiver-io==0.2.1) (1.35.0)\n",
            "Requirement already satisfied: setuptools>=41.0.0 in /usr/local/lib/python3.7/dist-packages (from tensorboard>=2.2.0->pytorch-lightning<1.7.0,>=1.6.0->perceiver-io==0.2.1) (57.4.0)\n",
            "Requirement already satisfied: werkzeug>=0.11.15 in /usr/local/lib/python3.7/dist-packages (from tensorboard>=2.2.0->pytorch-lightning<1.7.0,>=1.6.0->perceiver-io==0.2.1) (1.0.1)\n",
            "Requirement already satisfied: absl-py>=0.4 in /usr/local/lib/python3.7/dist-packages (from tensorboard>=2.2.0->pytorch-lightning<1.7.0,>=1.6.0->perceiver-io==0.2.1) (1.0.0)\n",
            "Requirement already satisfied: wheel>=0.26 in /usr/local/lib/python3.7/dist-packages (from tensorboard>=2.2.0->pytorch-lightning<1.7.0,>=1.6.0->perceiver-io==0.2.1) (0.37.1)\n",
            "Requirement already satisfied: tensorboard-data-server<0.7.0,>=0.6.0 in /usr/local/lib/python3.7/dist-packages (from tensorboard>=2.2.0->pytorch-lightning<1.7.0,>=1.6.0->perceiver-io==0.2.1) (0.6.1)\n",
            "Requirement already satisfied: protobuf>=3.6.0 in /usr/local/lib/python3.7/dist-packages (from tensorboard>=2.2.0->pytorch-lightning<1.7.0,>=1.6.0->perceiver-io==0.2.1) (3.17.3)\n",
            "Requirement already satisfied: markdown>=2.6.8 in /usr/local/lib/python3.7/dist-packages (from tensorboard>=2.2.0->pytorch-lightning<1.7.0,>=1.6.0->perceiver-io==0.2.1) (3.3.6)\n",
            "Requirement already satisfied: google-auth-oauthlib<0.5,>=0.4.1 in /usr/local/lib/python3.7/dist-packages (from tensorboard>=2.2.0->pytorch-lightning<1.7.0,>=1.6.0->perceiver-io==0.2.1) (0.4.6)\n",
            "Requirement already satisfied: grpcio>=1.24.3 in /usr/local/lib/python3.7/dist-packages (from tensorboard>=2.2.0->pytorch-lightning<1.7.0,>=1.6.0->perceiver-io==0.2.1) (1.44.0)\n",
            "Requirement already satisfied: six in /usr/local/lib/python3.7/dist-packages (from absl-py>=0.4->tensorboard>=2.2.0->pytorch-lightning<1.7.0,>=1.6.0->perceiver-io==0.2.1) (1.15.0)\n",
            "Requirement already satisfied: cachetools<5.0,>=2.0.0 in /usr/local/lib/python3.7/dist-packages (from google-auth<3,>=1.6.3->tensorboard>=2.2.0->pytorch-lightning<1.7.0,>=1.6.0->perceiver-io==0.2.1) (4.2.4)\n",
            "Requirement already satisfied: rsa<5,>=3.1.4 in /usr/local/lib/python3.7/dist-packages (from google-auth<3,>=1.6.3->tensorboard>=2.2.0->pytorch-lightning<1.7.0,>=1.6.0->perceiver-io==0.2.1) (4.8)\n",
            "Requirement already satisfied: pyasn1-modules>=0.2.1 in /usr/local/lib/python3.7/dist-packages (from google-auth<3,>=1.6.3->tensorboard>=2.2.0->pytorch-lightning<1.7.0,>=1.6.0->perceiver-io==0.2.1) (0.2.8)\n",
            "Requirement already satisfied: requests-oauthlib>=0.7.0 in /usr/local/lib/python3.7/dist-packages (from google-auth-oauthlib<0.5,>=0.4.1->tensorboard>=2.2.0->pytorch-lightning<1.7.0,>=1.6.0->perceiver-io==0.2.1) (1.3.1)\n",
            "Requirement already satisfied: importlib-metadata>=4.4 in /usr/local/lib/python3.7/dist-packages (from markdown>=2.6.8->tensorboard>=2.2.0->pytorch-lightning<1.7.0,>=1.6.0->perceiver-io==0.2.1) (4.11.3)\n",
            "Requirement already satisfied: zipp>=0.5 in /usr/local/lib/python3.7/dist-packages (from importlib-metadata>=4.4->markdown>=2.6.8->tensorboard>=2.2.0->pytorch-lightning<1.7.0,>=1.6.0->perceiver-io==0.2.1) (3.8.0)\n",
            "Requirement already satisfied: pyasn1<0.5.0,>=0.4.6 in /usr/local/lib/python3.7/dist-packages (from pyasn1-modules>=0.2.1->google-auth<3,>=1.6.3->tensorboard>=2.2.0->pytorch-lightning<1.7.0,>=1.6.0->perceiver-io==0.2.1) (0.4.8)\n",
            "Requirement already satisfied: certifi>=2017.4.17 in /usr/local/lib/python3.7/dist-packages (from requests->fsspec[http]!=2021.06.0,>=2021.05.0->pytorch-lightning<1.7.0,>=1.6.0->perceiver-io==0.2.1) (2021.10.8)\n",
            "Requirement already satisfied: idna<3,>=2.5 in /usr/local/lib/python3.7/dist-packages (from requests->fsspec[http]!=2021.06.0,>=2021.05.0->pytorch-lightning<1.7.0,>=1.6.0->perceiver-io==0.2.1) (2.10)\n",
            "Requirement already satisfied: chardet<4,>=3.0.2 in /usr/local/lib/python3.7/dist-packages (from requests->fsspec[http]!=2021.06.0,>=2021.05.0->pytorch-lightning<1.7.0,>=1.6.0->perceiver-io==0.2.1) (3.0.4)\n",
            "Requirement already satisfied: urllib3!=1.25.0,!=1.25.1,<1.26,>=1.21.1 in /usr/local/lib/python3.7/dist-packages (from requests->fsspec[http]!=2021.06.0,>=2021.05.0->pytorch-lightning<1.7.0,>=1.6.0->perceiver-io==0.2.1) (1.24.3)\n",
            "Requirement already satisfied: oauthlib>=3.0.0 in /usr/local/lib/python3.7/dist-packages (from requests-oauthlib>=0.7.0->google-auth-oauthlib<0.5,>=0.4.1->tensorboard>=2.2.0->pytorch-lightning<1.7.0,>=1.6.0->perceiver-io==0.2.1) (3.2.0)\n",
            "Requirement already satisfied: pillow!=8.3.*,>=5.3.0 in /usr/local/lib/python3.7/dist-packages (from torchvision<0.13.0,>=0.12.0->perceiver-io==0.2.1) (7.1.2)\n",
            "Requirement already satisfied: attrs>=17.3.0 in /usr/local/lib/python3.7/dist-packages (from aiohttp->fsspec[http]!=2021.06.0,>=2021.05.0->pytorch-lightning<1.7.0,>=1.6.0->perceiver-io==0.2.1) (21.4.0)\n",
            "Collecting yarl<2.0,>=1.0\n",
            "  Downloading yarl-1.7.2-cp37-cp37m-manylinux_2_5_x86_64.manylinux1_x86_64.manylinux_2_12_x86_64.manylinux2010_x86_64.whl (271 kB)\n",
            "\u001b[K     |████████████████████████████████| 271 kB 56.6 MB/s \n",
            "\u001b[?25hCollecting multidict<7.0,>=4.5\n",
            "  Downloading multidict-6.0.2-cp37-cp37m-manylinux_2_17_x86_64.manylinux2014_x86_64.whl (94 kB)\n",
            "\u001b[K     |████████████████████████████████| 94 kB 4.0 MB/s \n",
            "\u001b[?25hRequirement already satisfied: charset-normalizer<3.0,>=2.0 in /usr/local/lib/python3.7/dist-packages (from aiohttp->fsspec[http]!=2021.06.0,>=2021.05.0->pytorch-lightning<1.7.0,>=1.6.0->perceiver-io==0.2.1) (2.0.12)\n",
            "Collecting asynctest==0.13.0\n",
            "  Downloading asynctest-0.13.0-py3-none-any.whl (26 kB)\n",
            "Collecting aiosignal>=1.1.2\n",
            "  Downloading aiosignal-1.2.0-py3-none-any.whl (8.2 kB)\n",
            "Collecting frozenlist>=1.1.1\n",
            "  Downloading frozenlist-1.3.0-cp37-cp37m-manylinux_2_5_x86_64.manylinux1_x86_64.manylinux_2_17_x86_64.manylinux2014_x86_64.whl (144 kB)\n",
            "\u001b[K     |████████████████████████████████| 144 kB 57.7 MB/s \n",
            "\u001b[?25hCollecting async-timeout<5.0,>=4.0.0a3\n",
            "  Downloading async_timeout-4.0.2-py3-none-any.whl (5.8 kB)\n",
            "Building wheels for collected packages: fairscale\n",
            "  Building wheel for fairscale (PEP 517) ... \u001b[?25l\u001b[?25hdone\n",
            "  Created wheel for fairscale: filename=fairscale-0.4.6-py3-none-any.whl size=307252 sha256=dd38be2466a289ff90b29da99af61fc3383541e0249678e3a81a5fcd1ed0a63a\n",
            "  Stored in directory: /root/.cache/pip/wheels/4e/4f/0b/94c29ea06dfad93260cb0377855f87b7b863312317a7f69fe7\n",
            "Successfully built fairscale\n",
            "Installing collected packages: multidict, frozenlist, yarl, asynctest, async-timeout, aiosignal, pyDeprecate, fsspec, aiohttp, torchmetrics, PyYAML, pytorch-lightning, jsonargparse, docstring-parser, tokenizers, lightning-bolts, fairscale, einops, perceiver-io\n",
            "  Attempting uninstall: PyYAML\n",
            "    Found existing installation: PyYAML 3.13\n",
            "    Uninstalling PyYAML-3.13:\n",
            "      Successfully uninstalled PyYAML-3.13\n",
            "Successfully installed PyYAML-6.0 aiohttp-3.8.1 aiosignal-1.2.0 async-timeout-4.0.2 asynctest-0.13.0 docstring-parser-0.14.1 einops-0.4.1 fairscale-0.4.6 frozenlist-1.3.0 fsspec-2022.3.0 jsonargparse-4.7.2 lightning-bolts-0.5.0 multidict-6.0.2 perceiver-io-0.2.1 pyDeprecate-0.3.2 pytorch-lightning-1.6.3 tokenizers-0.12.1 torchmetrics-0.8.2 yarl-1.7.2\n"
          ]
        }
      ]
    },
    {
      "cell_type": "code",
      "source": [
        "# Download tokenizer data\n",
        "!wget https://raw.githubusercontent.com/krasserm/perceiver-io/main/.cache/imdb-tokenizer-10003.json"
      ],
      "metadata": {
        "colab": {
          "base_uri": "https://localhost:8080/"
        },
        "id": "kNGeP9czCzqz",
        "outputId": "a1a3238e-43f8-48fe-e2cc-613671b023fc"
      },
      "id": "kNGeP9czCzqz",
      "execution_count": 2,
      "outputs": [
        {
          "output_type": "stream",
          "name": "stdout",
          "text": [
            "--2022-05-09 15:31:11--  https://raw.githubusercontent.com/krasserm/perceiver-io/main/.cache/imdb-tokenizer-10003.json\n",
            "Resolving raw.githubusercontent.com (raw.githubusercontent.com)... 185.199.111.133, 185.199.108.133, 185.199.110.133, ...\n",
            "Connecting to raw.githubusercontent.com (raw.githubusercontent.com)|185.199.111.133|:443... connected.\n",
            "HTTP request sent, awaiting response... 200 OK\n",
            "Length: 136806 (134K) [text/plain]\n",
            "Saving to: ‘imdb-tokenizer-10003.json’\n",
            "\n",
            "imdb-tokenizer-1000 100%[===================>] 133.60K  --.-KB/s    in 0.02s   \n",
            "\n",
            "2022-05-09 15:31:12 (5.97 MB/s) - ‘imdb-tokenizer-10003.json’ saved [136806/136806]\n",
            "\n"
          ]
        }
      ]
    },
    {
      "cell_type": "code",
      "source": [
        "# Download model checkpoints\n",
        "!wget -nc -O logs.zip https://martin-krasser.com/perceiver/logs-update-3.zip\n",
        "!unzip -qo logs.zip"
      ],
      "metadata": {
        "colab": {
          "base_uri": "https://localhost:8080/"
        },
        "id": "9mHo6mbXCz98",
        "outputId": "40f9edaf-c0ed-4142-954e-ff6056ee67b4"
      },
      "id": "9mHo6mbXCz98",
      "execution_count": 3,
      "outputs": [
        {
          "output_type": "stream",
          "name": "stdout",
          "text": [
            "--2022-05-09 15:31:17--  https://martin-krasser.com/perceiver/logs-update-3.zip\n",
            "Resolving martin-krasser.com (martin-krasser.com)... 217.160.0.142, 2001:8d8:100f:f000::209\n",
            "Connecting to martin-krasser.com (martin-krasser.com)|217.160.0.142|:443... connected.\n",
            "HTTP request sent, awaiting response... 200 OK\n",
            "Length: 44295508 (42M) [application/zip]\n",
            "Saving to: ‘logs.zip’\n",
            "\n",
            "logs.zip            100%[===================>]  42.24M  20.0MB/s    in 2.1s    \n",
            "\n",
            "2022-05-09 15:31:20 (20.0 MB/s) - ‘logs.zip’ saved [44295508/44295508]\n",
            "\n"
          ]
        }
      ]
    },
    {
      "cell_type": "code",
      "execution_count": 4,
      "id": "22d1d2ff",
      "metadata": {
        "id": "22d1d2ff"
      },
      "outputs": [],
      "source": [
        "import torch\n",
        "\n",
        "from perceiver.data.text_preproc import TextPreprocessor\n",
        "from perceiver.model.lightning import LitTextClassifier"
      ]
    },
    {
      "cell_type": "code",
      "execution_count": 5,
      "id": "a1548d53",
      "metadata": {
        "id": "a1548d53"
      },
      "outputs": [],
      "source": [
        "imdb_preproc = TextPreprocessor(tokenizer_path='imdb-tokenizer-10003.json')"
      ]
    },
    {
      "cell_type": "code",
      "execution_count": 6,
      "id": "6d777633",
      "metadata": {
        "id": "6d777633"
      },
      "outputs": [],
      "source": [
        "ckpt_path = 'logs/seq_clf/version_1/checkpoints/epoch=035-val_loss=0.259.ckpt'\n",
        "\n",
        "model = LitTextClassifier.load_from_checkpoint(ckpt_path, clf_ckpt=None).model\n",
        "model.eval();"
      ]
    },
    {
      "cell_type": "code",
      "execution_count": 7,
      "id": "c73065af",
      "metadata": {
        "id": "c73065af"
      },
      "outputs": [],
      "source": [
        "text_batch = [\n",
        "    \"I've seen this movie yesterday and it was really boring\",\n",
        "    \"I can recommend this movie to all fantasy movie lovers\"\n",
        "]"
      ]
    },
    {
      "cell_type": "code",
      "execution_count": 8,
      "id": "d8616e4e",
      "metadata": {
        "id": "d8616e4e"
      },
      "outputs": [],
      "source": [
        "with torch.no_grad():\n",
        "    logits = model(*imdb_preproc.preprocess_batch(text_batch))\n",
        "    preds = logits.argmax(dim=1)"
      ]
    },
    {
      "cell_type": "code",
      "execution_count": 9,
      "id": "1a996246",
      "metadata": {
        "colab": {
          "base_uri": "https://localhost:8080/"
        },
        "id": "1a996246",
        "outputId": "90b46cd0-fdab-45ed-ac68-d1e262397ac9"
      },
      "outputs": [
        {
          "output_type": "stream",
          "name": "stdout",
          "text": [
            "I've seen this movie yesterday and it was really boring (positive = False)\n",
            "I can recommend this movie to all fantasy movie lovers (positive = True)\n"
          ]
        }
      ],
      "source": [
        "for text, pred in zip(text_batch, preds):\n",
        "    print(f'{text} (positive = {pred == 1})')"
      ]
    }
  ],
  "metadata": {
    "kernelspec": {
      "display_name": "Python 3 (ipykernel)",
      "language": "python",
      "name": "python3"
    },
    "language_info": {
      "codemirror_mode": {
        "name": "ipython",
        "version": 3
      },
      "file_extension": ".py",
      "mimetype": "text/x-python",
      "name": "python",
      "nbconvert_exporter": "python",
      "pygments_lexer": "ipython3",
      "version": "3.9.9"
    },
    "colab": {
      "name": "txt-clf.ipynb",
      "provenance": [],
      "collapsed_sections": []
    }
  },
  "nbformat": 4,
  "nbformat_minor": 5
}
