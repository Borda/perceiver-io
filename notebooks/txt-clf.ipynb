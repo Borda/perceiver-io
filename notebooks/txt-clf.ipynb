{
  "cells": [
    {
      "cell_type": "markdown",
      "id": "b49dc803",
      "metadata": {
        "id": "b49dc803"
      },
      "source": [
        "# Sentiment classification"
      ]
    },
    {
      "cell_type": "code",
      "execution_count": null,
      "id": "DAUrfRj0CcW3",
      "metadata": {
        "id": "DAUrfRj0CcW3"
      },
      "outputs": [],
      "source": [
        "!pip uninstall --yes torch torchvision torchtext torchaudio\n",
        "!pip install perceiver-io[text]==0.4.0"
      ]
    },
    {
      "cell_type": "code",
      "execution_count": 2,
      "id": "kNGeP9czCzqz",
      "metadata": {
        "colab": {
          "base_uri": "https://localhost:8080/"
        },
        "id": "kNGeP9czCzqz",
        "outputId": "00dd9e27-7566-47e9-aa49-c9f7284ff1aa"
      },
      "outputs": [
        {
          "output_type": "stream",
          "name": "stdout",
          "text": [
            "--2022-07-21 13:08:20--  https://martin-krasser.com/perceiver/tokenizers.zip\n",
            "Resolving martin-krasser.com (martin-krasser.com)... 217.160.0.142, 2001:8d8:100f:f000::209\n",
            "Connecting to martin-krasser.com (martin-krasser.com)|217.160.0.142|:443... connected.\n",
            "HTTP request sent, awaiting response... 200 OK\n",
            "Length: 191711 (187K) [application/zip]\n",
            "Saving to: ‘tokenizers.zip’\n",
            "\n",
            "tokenizers.zip      100%[===================>] 187.22K   561KB/s    in 0.3s    \n",
            "\n",
            "2022-07-21 13:08:21 (561 KB/s) - ‘tokenizers.zip’ saved [191711/191711]\n",
            "\n"
          ]
        }
      ],
      "source": [
        "# Download tokenizers\n",
        "!wget -nc https://martin-krasser.com/perceiver/tokenizers.zip\n",
        "!unzip -qo tokenizers.zip"
      ]
    },
    {
      "cell_type": "code",
      "execution_count": 3,
      "id": "9mHo6mbXCz98",
      "metadata": {
        "colab": {
          "base_uri": "https://localhost:8080/"
        },
        "id": "9mHo6mbXCz98",
        "outputId": "c64b3a32-dee5-4a6d-8777-c82e4447eeda"
      },
      "outputs": [
        {
          "output_type": "stream",
          "name": "stdout",
          "text": [
            "--2022-07-21 13:08:35--  https://martin-krasser.com/perceiver/logs-update-5.zip\n",
            "Resolving martin-krasser.com (martin-krasser.com)... 217.160.0.142, 2001:8d8:100f:f000::209\n",
            "Connecting to martin-krasser.com (martin-krasser.com)|217.160.0.142|:443... connected.\n",
            "HTTP request sent, awaiting response... 200 OK\n",
            "Length: 128967640 (123M) [application/zip]\n",
            "Saving to: ‘logs.zip’\n",
            "\n",
            "logs.zip            100%[===================>] 122.99M  29.3MB/s    in 4.9s    \n",
            "\n",
            "2022-07-21 13:08:41 (25.3 MB/s) - ‘logs.zip’ saved [128967640/128967640]\n",
            "\n"
          ]
        }
      ],
      "source": [
        "# Download checkpoints\n",
        "!wget -nc -O logs.zip https://martin-krasser.com/perceiver/logs-update-5.zip\n",
        "!unzip -qo logs.zip"
      ]
    },
    {
      "cell_type": "code",
      "execution_count": 4,
      "id": "22d1d2ff",
      "metadata": {
        "id": "22d1d2ff"
      },
      "outputs": [],
      "source": [
        "import torch\n",
        "\n",
        "from perceiver.data.text import TextPreprocessor\n",
        "from perceiver.model.text.classifier import LitTextClassifier"
      ]
    },
    {
      "cell_type": "code",
      "execution_count": 5,
      "id": "a1548d53",
      "metadata": {
        "id": "a1548d53"
      },
      "outputs": [],
      "source": [
        "preprocessor = TextPreprocessor(tokenizer='tokenizers/bert-base-uncased-10k-bookcorpus-ext', max_seq_len=512)"
      ]
    },
    {
      "cell_type": "code",
      "execution_count": 6,
      "id": "6d777633",
      "metadata": {
        "id": "6d777633"
      },
      "outputs": [],
      "source": [
        "ckpt_path = 'logs/clf/version_1/checkpoints/epoch=028-val_loss=0.274.ckpt'\n",
        "\n",
        "model = LitTextClassifier.load_from_checkpoint(ckpt_path, clf_ckpt=None).model\n",
        "model.eval();"
      ]
    },
    {
      "cell_type": "code",
      "execution_count": 7,
      "id": "c73065af",
      "metadata": {
        "id": "c73065af"
      },
      "outputs": [],
      "source": [
        "text_batch = [\n",
        "    \"I've seen this movie yesterday and it was really boring\",\n",
        "    \"I can recommend this movie to all fantasy movie lovers\"\n",
        "]"
      ]
    },
    {
      "cell_type": "code",
      "execution_count": 8,
      "id": "d8616e4e",
      "metadata": {
        "id": "d8616e4e"
      },
      "outputs": [],
      "source": [
        "with torch.no_grad():\n",
        "    logits = model(*preprocessor.preprocess_batch(text_batch))\n",
        "    preds = logits.argmax(dim=1)"
      ]
    },
    {
      "cell_type": "code",
      "execution_count": 9,
      "id": "1a996246",
      "metadata": {
        "colab": {
          "base_uri": "https://localhost:8080/"
        },
        "id": "1a996246",
        "outputId": "7af28730-4a6d-4211-9077-4244f8dcc5f2"
      },
      "outputs": [
        {
          "output_type": "stream",
          "name": "stdout",
          "text": [
            "I've seen this movie yesterday and it was really boring (positive = False)\n",
            "I can recommend this movie to all fantasy movie lovers (positive = True)\n"
          ]
        }
      ],
      "source": [
        "for text, pred in zip(text_batch, preds):\n",
        "    print(f'{text} (positive = {pred == 1})')"
      ]
    }
  ],
  "metadata": {
    "colab": {
      "collapsed_sections": [],
      "name": "txt-clf.ipynb",
      "provenance": []
    },
    "kernelspec": {
      "display_name": "Python 3 (ipykernel)",
      "language": "python",
      "name": "python3"
    },
    "language_info": {
      "codemirror_mode": {
        "name": "ipython",
        "version": 3
      },
      "file_extension": ".py",
      "mimetype": "text/x-python",
      "name": "python",
      "nbconvert_exporter": "python",
      "pygments_lexer": "ipython3",
      "version": "3.7.13"
    }
  },
  "nbformat": 4,
  "nbformat_minor": 5
}
