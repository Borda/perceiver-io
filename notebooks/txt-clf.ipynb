{
 "cells": [
  {
   "cell_type": "markdown",
   "id": "b49dc803",
   "metadata": {
    "id": "b49dc803"
   },
   "source": [
    "# Sentiment classification"
   ]
  },
  {
   "cell_type": "code",
   "execution_count": null,
   "id": "DAUrfRj0CcW3",
   "metadata": {
    "colab": {
     "base_uri": "https://localhost:8080/"
    },
    "id": "DAUrfRj0CcW3",
    "outputId": "42180364-1774-4d3a-8b8c-945127c58f7a"
   },
   "outputs": [],
   "source": [
    "!pip install perceiver-io[text]==0.4.0"
   ]
  },
  {
   "cell_type": "code",
   "execution_count": null,
   "id": "kNGeP9czCzqz",
   "metadata": {
    "colab": {
     "base_uri": "https://localhost:8080/"
    },
    "id": "kNGeP9czCzqz",
    "outputId": "ee4658d2-c7f7-48a7-d86d-051f9050592b"
   },
   "outputs": [],
   "source": [
    "# Download tokenizers\n",
    "!wget -nc https://martin-krasser.com/perceiver/tokenizers.zip\n",
    "!unzip -qo tokenizers.zip"
   ]
  },
  {
   "cell_type": "code",
   "execution_count": null,
   "id": "9mHo6mbXCz98",
   "metadata": {
    "colab": {
     "base_uri": "https://localhost:8080/"
    },
    "id": "9mHo6mbXCz98",
    "outputId": "e4d1387a-1202-41fa-b4ec-193572d6f135"
   },
   "outputs": [],
   "source": [
    "# Download checkpoints\n",
    "!wget -nc -O logs.zip https://martin-krasser.com/perceiver/logs-update-5.zip\n",
    "!unzip -qo logs.zip"
   ]
  },
  {
   "cell_type": "code",
   "execution_count": null,
   "id": "22d1d2ff",
   "metadata": {
    "id": "22d1d2ff"
   },
   "outputs": [],
   "source": [
    "import torch\n",
    "\n",
    "from perceiver.data.text import TextPreprocessor\n",
    "from perceiver.model.text.classifier import LitTextClassifier"
   ]
  },
  {
   "cell_type": "code",
   "execution_count": null,
   "id": "a1548d53",
   "metadata": {
    "id": "a1548d53"
   },
   "outputs": [],
   "source": [
    "preprocessor = TextPreprocessor(tokenizer='tokenizers/bert-base-uncased-10k-bookcorpus-ext', max_seq_len=512)"
   ]
  },
  {
   "cell_type": "code",
   "execution_count": null,
   "id": "6d777633",
   "metadata": {
    "id": "6d777633"
   },
   "outputs": [],
   "source": [
    "ckpt_path = 'logs/clf/version_1/checkpoints/epoch=028-val_loss=0.274.ckpt'\n",
    "\n",
    "model = LitTextClassifier.load_from_checkpoint(ckpt_path, clf_ckpt=None).model\n",
    "model.eval();"
   ]
  },
  {
   "cell_type": "code",
   "execution_count": null,
   "id": "c73065af",
   "metadata": {
    "id": "c73065af"
   },
   "outputs": [],
   "source": [
    "text_batch = [\n",
    "    \"I've seen this movie yesterday and it was really boring\",\n",
    "    \"I can recommend this movie to all fantasy movie lovers\"\n",
    "]"
   ]
  },
  {
   "cell_type": "code",
   "execution_count": null,
   "id": "d8616e4e",
   "metadata": {
    "id": "d8616e4e"
   },
   "outputs": [],
   "source": [
    "with torch.no_grad():\n",
    "    logits = model(*preprocessor.preprocess_batch(text_batch))\n",
    "    preds = logits.argmax(dim=1)"
   ]
  },
  {
   "cell_type": "code",
   "execution_count": null,
   "id": "1a996246",
   "metadata": {
    "colab": {
     "base_uri": "https://localhost:8080/"
    },
    "id": "1a996246",
    "outputId": "7380daea-a828-426a-fa71-f61702f9a22a"
   },
   "outputs": [],
   "source": [
    "for text, pred in zip(text_batch, preds):\n",
    "    print(f'{text} (positive = {pred == 1})')"
   ]
  }
 ],
 "metadata": {
  "colab": {
   "collapsed_sections": [],
   "name": "txt-clf.ipynb",
   "provenance": []
  },
  "kernelspec": {
   "display_name": "Python 3 (ipykernel)",
   "language": "python",
   "name": "python3"
  },
  "language_info": {
   "codemirror_mode": {
    "name": "ipython",
    "version": 3
   },
   "file_extension": ".py",
   "mimetype": "text/x-python",
   "name": "python",
   "nbconvert_exporter": "python",
   "pygments_lexer": "ipython3",
   "version": "3.7.13"
  }
 },
 "nbformat": 4,
 "nbformat_minor": 5
}
