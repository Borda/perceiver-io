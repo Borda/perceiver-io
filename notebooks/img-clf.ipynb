{
  "cells": [
    {
      "cell_type": "markdown",
      "id": "3446d878",
      "metadata": {
        "id": "3446d878",
        "pycharm": {
          "name": "#%% md\n"
        }
      },
      "source": [
        "# Image classification"
      ]
    },
    {
      "cell_type": "code",
      "execution_count": null,
      "outputs": [],
      "source": [
        "!pip install torch==1.11.*\n",
        "!pip install torchvision==0.12.*\n",
        "!pip install fairscale==0.4.*\n",
        "!pip install einops==0.4.*\n",
        "!pip install tokenizers==0.12.*\n",
        "!pip install jsonargparse==4.7.1\n",
        "!pip install pytorch-lightning==1.6.2"
      ],
      "metadata": {
        "pycharm": {
          "name": "#%%\n"
        },
        "id": "wKekDvkK7Nok"
      },
      "id": "wKekDvkK7Nok"
    },
    {
      "cell_type": "code",
      "execution_count": null,
      "outputs": [],
      "source": [
        "!git clone https://github.com/krasserm/perceiver-io.git -b wip-enhancements"
      ],
      "metadata": {
        "pycharm": {
          "name": "#%%\n"
        },
        "id": "gKhxBmfW7Nol"
      },
      "id": "gKhxBmfW7Nol"
    },
    {
      "cell_type": "code",
      "execution_count": null,
      "outputs": [],
      "source": [
        "# Download model checkpoints\n",
        "!wget -nc -O logs.zip https://martin-krasser.com/perceiver/logs-update-3.zip\n",
        "!unzip -qo logs.zip"
      ],
      "metadata": {
        "pycharm": {
          "name": "#%%\n"
        },
        "id": "D0x7YBP57Nom"
      },
      "id": "D0x7YBP57Nom"
    },
    {
      "cell_type": "code",
      "execution_count": null,
      "outputs": [],
      "source": [
        "import sys\n",
        "import torch\n",
        "import numpy as np\n",
        "import matplotlib.pyplot as plt\n",
        "\n",
        "sys.path.append(\"perceiver-io\")\n",
        "\n",
        "from torchvision.datasets import MNIST\n",
        "from perceiver.data.mnist_preproc import MnistPreprocessor\n",
        "from perceiver.model.lightning import LitImageClassifier"
      ],
      "metadata": {
        "pycharm": {
          "name": "#%%\n"
        },
        "id": "_V2eoMXx7Nom"
      },
      "id": "_V2eoMXx7Nom"
    },
    {
      "cell_type": "code",
      "execution_count": null,
      "id": "a1548d53",
      "metadata": {
        "id": "a1548d53",
        "pycharm": {
          "name": "#%%\n"
        }
      },
      "outputs": [],
      "source": [
        "mnist = MNIST(root='.cache', download=True, train=False)\n",
        "mnist_preproc = MnistPreprocessor()"
      ]
    },
    {
      "cell_type": "code",
      "execution_count": null,
      "id": "6d777633",
      "metadata": {
        "id": "6d777633",
        "pycharm": {
          "name": "#%%\n"
        }
      },
      "outputs": [],
      "source": [
        "ckpt_path = 'logs/img_clf/version_0/checkpoints/epoch=018-val_loss=0.092.ckpt'\n",
        "\n",
        "model = LitImageClassifier.load_from_checkpoint(ckpt_path).model\n",
        "model.eval();"
      ]
    },
    {
      "cell_type": "code",
      "execution_count": null,
      "id": "c0846b9c",
      "metadata": {
        "id": "c0846b9c",
        "pycharm": {
          "name": "#%%\n"
        }
      },
      "outputs": [],
      "source": [
        "cols, rows = 3, 3\n",
        "imgs = [mnist[i][0] for i in range(cols * rows)]"
      ]
    },
    {
      "cell_type": "code",
      "execution_count": null,
      "id": "c5c6ed54",
      "metadata": {
        "id": "c5c6ed54",
        "pycharm": {
          "name": "#%%\n"
        }
      },
      "outputs": [],
      "source": [
        "with torch.no_grad():\n",
        "    logits = model(mnist_preproc.preprocess_batch(imgs))\n",
        "    preds = logits.argmax(dim=1)"
      ]
    },
    {
      "cell_type": "code",
      "execution_count": null,
      "id": "f3417dbc",
      "metadata": {
        "id": "f3417dbc",
        "pycharm": {
          "name": "#%%\n"
        }
      },
      "outputs": [],
      "source": [
        "plt.figure(figsize=(8, 8))\n",
        "for i, (img, pred) in enumerate(zip(imgs, preds)):\n",
        "    plt.subplot(rows, cols, i + 1)\n",
        "    plt.axis('off')\n",
        "    plt.title(f'Prediction: {pred}')\n",
        "    plt.imshow(np.array(img), cmap='gray')"
      ]
    }
  ],
  "metadata": {
    "kernelspec": {
      "display_name": "Python 3 (ipykernel)",
      "language": "python",
      "name": "python3"
    },
    "language_info": {
      "codemirror_mode": {
        "name": "ipython",
        "version": 3
      },
      "file_extension": ".py",
      "mimetype": "text/x-python",
      "name": "python",
      "nbconvert_exporter": "python",
      "pygments_lexer": "ipython3",
      "version": "3.9.9"
    },
    "colab": {
      "name": "img-clf.ipynb",
      "provenance": [],
      "collapsed_sections": []
    },
    "accelerator": "GPU"
  },
  "nbformat": 4,
  "nbformat_minor": 5
}
